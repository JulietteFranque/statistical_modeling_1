{
 "cells": [
  {
   "cell_type": "code",
   "execution_count": 161,
   "id": "4412b1e8",
   "metadata": {},
   "outputs": [],
   "source": [
    "import matplotlib.pyplot as plt\n",
    "import numpy as np\n",
    "from matplotlib import rc\n",
    "rc('text', usetex=True)\n",
    "plt.style.use('ggplot')\n",
    "plt.rcParams.update({'axes.labelsize':16})\n",
    "plt.rcParams.update({'axes.titlesize':16})\n",
    "plt.rcParams.update({'legend.fontsize':16})\n",
    "plt.rcParams['xtick.labelsize'] = 16\n",
    "plt.rcParams['ytick.labelsize'] = 16\n",
    "plt.rcParams['lines.linewidth'] = 4\n",
    "from scipy.stats import norm"
   ]
  },
  {
   "cell_type": "code",
   "execution_count": 259,
   "id": "8e21da8b",
   "metadata": {},
   "outputs": [],
   "source": [
    "mu = 50\n",
    "c = .001\n",
    "std = np.sqrt(c * mu**2)"
   ]
  },
  {
   "cell_type": "code",
   "execution_count": 260,
   "id": "20de00d8",
   "metadata": {},
   "outputs": [],
   "source": [
    "samples = norm(mu, std).rvs(1000)"
   ]
  },
  {
   "cell_type": "code",
   "execution_count": 261,
   "id": "e944ac13",
   "metadata": {},
   "outputs": [
    {
     "data": {
      "text/plain": [
       "(array([  4.,  13.,  50., 158., 291., 261., 148.,  62.,  10.,   3.]),\n",
       " array([44.51615393, 45.6203454 , 46.72453687, 47.82872833, 48.9329198 ,\n",
       "        50.03711127, 51.14130273, 52.2454942 , 53.34968567, 54.45387713,\n",
       "        55.5580686 ]),\n",
       " <BarContainer object of 10 artists>)"
      ]
     },
     "execution_count": 261,
     "metadata": {},
     "output_type": "execute_result"
    },
    {
     "data": {
      "image/png": "[encoded data removed]",
      "text/plain": [
       "<Figure size 432x288 with 1 Axes>"
      ]
     },
     "metadata": {},
     "output_type": "display_data"
    }
   ],
   "source": [
    "plt.hist(samples)"
   ]
  },
  {
   "cell_type": "code",
   "execution_count": 262,
   "id": "dc600cd5",
   "metadata": {},
   "outputs": [],
   "source": [
    "num =  np.sum(samples) - np.sqrt(np.sum(samples)**2 - 4 * len(samples) * c * np.sum(samples**2) )\n",
    "den = 2 * len(samples) * c\n",
    "mle = num / den"
   ]
  },
  {
   "cell_type": "code",
   "execution_count": 263,
   "id": "8c943793",
   "metadata": {},
   "outputs": [
    {
     "data": {
      "text/plain": [
       "50.10307727487452"
      ]
     },
     "execution_count": 263,
     "metadata": {},
     "output_type": "execute_result"
    }
   ],
   "source": [
    "mle"
   ]
  },
  {
   "cell_type": "code",
   "execution_count": 264,
   "id": "31ec2810",
   "metadata": {},
   "outputs": [
    {
     "data": {
      "image/png": "[encoded data removed]",
      "text/plain": [
       "<Figure size 432x288 with 1 Axes>"
      ]
     },
     "metadata": {},
     "output_type": "display_data"
    }
   ],
   "source": [
    "x = np.linspace(samples.min(), samples.max(), 1000)\n",
    "plt.plot(x, norm(mle, np.sqrt(mle**2 * c)).pdf(x))\n",
    "plt.hist(samples, density=True, bins=50);"
   ]
  },
  {
   "cell_type": "code",
   "execution_count": 265,
   "id": "1b3e2e45",
   "metadata": {},
   "outputs": [
    {
     "data": {
      "text/plain": [
       "2490644259.324671"
      ]
     },
     "execution_count": 265,
     "metadata": {},
     "output_type": "execute_result"
    }
   ],
   "source": [
    "np.sum(samples)**2 - 4 * len(samples) * c * np.sum(samples**2)"
   ]
  },
  {
   "cell_type": "code",
   "execution_count": 266,
   "id": "563fcb23",
   "metadata": {},
   "outputs": [
    {
     "data": {
      "text/plain": [
       "2490644259.324671"
      ]
     },
     "execution_count": 266,
     "metadata": {},
     "output_type": "execute_result"
    }
   ],
   "source": [
    "np.sum(samples)**2 - 4 * len(samples) * c * np.sum(samples**2)"
   ]
  },
  {
   "cell_type": "code",
   "execution_count": null,
   "id": "7fcfbec7",
   "metadata": {},
   "outputs": [],
   "source": []
  },
  {
   "cell_type": "code",
   "execution_count": null,
   "id": "a9b053af",
   "metadata": {},
   "outputs": [],
   "source": []
  }
 ],
 "metadata": {
  "kernelspec": {
   "display_name": "Python 3 (ipykernel)",
   "language": "python",
   "name": "python3"
  },
  "language_info": {
   "codemirror_mode": {
    "name": "ipython",
    "version": 3
   },
   "file_extension": ".py",
   "mimetype": "text/x-python",
   "name": "python",
   "nbconvert_exporter": "python",
   "pygments_lexer": "ipython3",
   "version": "3.9.7"
  }
 },
 "nbformat": 4,
 "nbformat_minor": 5
}
