{
 "cells": [
  {
   "cell_type": "code",
   "execution_count": 534,
   "id": "4412b1e8",
   "metadata": {},
   "outputs": [],
   "source": [
    "import matplotlib.pyplot as plt\n",
    "import numpy as np\n",
    "from matplotlib import rc\n",
    "rc('text', usetex=True)\n",
    "plt.style.use('ggplot')\n",
    "plt.rcParams.update({'axes.labelsize':16})\n",
    "plt.rcParams.update({'axes.titlesize':16})\n",
    "plt.rcParams.update({'legend.fontsize':16})\n",
    "plt.rcParams['xtick.labelsize'] = 16\n",
    "plt.rcParams['ytick.labelsize'] = 16\n",
    "plt.rcParams['lines.linewidth'] = 4\n",
    "from scipy.stats import norm"
   ]
  },
  {
   "cell_type": "code",
   "execution_count": 675,
   "id": "8e21da8b",
   "metadata": {},
   "outputs": [],
   "source": [
    "mu = 10\n",
    "c = 2\n",
    "std = np.sqrt(c * mu**2)\n",
    "dist = norm(mu, std)"
   ]
  },
  {
   "cell_type": "code",
   "execution_count": 676,
   "id": "ab54d5d7",
   "metadata": {},
   "outputs": [],
   "source": [
    "def calculate_L(data, mu, c):\n",
    "    n = len(data)\n",
    "    log_like = -n/2*np.log(mu**2) - 1/(2*c*mu**2) * np.sum((data-mu)**2)\n",
    "    return log_like\n",
    "\n",
    "def find_mle(samples, c):\n",
    "    if np.sum(samples) < 0:\n",
    "        num =  -np.sum(samples) - np.sqrt(np.sum(samples)**2 + 4 * len(samples) * c * np.sum(samples**2))\n",
    "    else:\n",
    "        num =  -np.sum(samples) + np.sqrt(np.sum(samples)**2 + 4 * len(samples) * c * np.sum(samples**2))\n",
    "    den = 2 * len(samples) * c\n",
    "    mle = num / den\n",
    "    return mle"
   ]
  },
  {
   "cell_type": "code",
   "execution_count": 677,
   "id": "20de00d8",
   "metadata": {},
   "outputs": [
    {
     "data": {
      "text/plain": [
       "9.972854059235727"
      ]
     },
     "execution_count": 677,
     "metadata": {},
     "output_type": "execute_result"
    }
   ],
   "source": [
    "samples = norm(mu, std).rvs(10000)\n",
    "find_mle(samples, c)"
   ]
  },
  {
   "cell_type": "code",
   "execution_count": 678,
   "id": "1f3baaab",
   "metadata": {},
   "outputs": [
    {
     "data": {
      "text/plain": [
       "[<matplotlib.lines.Line2D at 0x7f8de18ae040>]"
      ]
     },
     "execution_count": 678,
     "metadata": {},
     "output_type": "execute_result"
    },
    {
     "data": {
      "image/png": "[encoded data removed]",
      "text/plain": [
       "<Figure size 432x288 with 1 Axes>"
      ]
     },
     "metadata": {},
     "output_type": "display_data"
    }
   ],
   "source": [
    "mus = np.linspace(-30, 20, 100)\n",
    "l = [calculate_L(samples, mu, c) for mu in mus]\n",
    "plt.plot(mus, l)"
   ]
  },
  {
   "cell_type": "code",
   "execution_count": 735,
   "id": "1e329910",
   "metadata": {},
   "outputs": [],
   "source": [
    "MLEs = []\n",
    "for it in range(10000):\n",
    "    samples = norm(mu, std).rvs(500000)\n",
    "    MLEs.append(find_mle(samples, c))"
   ]
  },
  {
   "cell_type": "code",
   "execution_count": 736,
   "id": "2f896f09",
   "metadata": {},
   "outputs": [
    {
     "data": {
      "image/png": "[encoded data removed]",
      "text/plain": [
       "<Figure size 432x288 with 1 Axes>"
      ]
     },
     "metadata": {},
     "output_type": "display_data"
    }
   ],
   "source": [
    "plt.hist(MLEs, bins=20);"
   ]
  },
  {
   "cell_type": "code",
   "execution_count": 737,
   "id": "176742db",
   "metadata": {},
   "outputs": [
    {
     "data": {
      "text/plain": [
       "0.00898825951375458"
      ]
     },
     "execution_count": 737,
     "metadata": {},
     "output_type": "execute_result"
    }
   ],
   "source": [
    "np.std(MLEs, ddof=1)"
   ]
  },
  {
   "cell_type": "code",
   "execution_count": 744,
   "id": "a1e3be05",
   "metadata": {},
   "outputs": [],
   "source": [
    "def calculate_se(samples, mle):\n",
    "    n = len(samples)\n",
    "    #info = (n/mle**2 - 1/(2*c) * (6*np.sum(samples**2)/mle**4 - 4 * np.sum(samples)/mle**3))\n",
    "    info = -n/mle**2*(2+1/c)\n",
    "    return np.sqrt(-1/info)"
   ]
  },
  {
   "cell_type": "code",
   "execution_count": 774,
   "id": "67458d72",
   "metadata": {},
   "outputs": [],
   "source": [
    "mu = 10\n",
    "c = 2\n",
    "std = np.sqrt(c * mu**2)\n",
    "dist = norm(mu, std)\n",
    "mle = find_mle(samples, c)\n",
    "samples = dist.rvs(size=(5000, 1000))\n",
    "samples_1 = samples.mean(axis=0) ** 2 / np.var(samples, ddof=1, axis=0,)\n",
    "\n",
    "mu = 20\n",
    "c = 2\n",
    "std = np.sqrt(c * mu**2)\n",
    "dist = norm(mu, std)\n",
    "mle = find_mle(samples, c)\n",
    "samples = dist.rvs(size=(5000, 1000))\n",
    "samples_2 = samples.mean(axis=0) ** 2 / np.var(samples, ddof=1, axis=0)"
   ]
  },
  {
   "cell_type": "code",
   "execution_count": 776,
   "id": "0fcf7289",
   "metadata": {},
   "outputs": [
    {
     "data": {
      "image/png": "[encoded data removed]",
      "text/plain": [
       "<Figure size 432x288 with 1 Axes>"
      ]
     },
     "metadata": {},
     "output_type": "display_data"
    }
   ],
   "source": [
    "plt.figure(figsize)\n",
    "plt.hist(samples_1, bins=20, edgecolor='black', alpha=.8, label='$\\mu = 10$ $(c = 2)$')\n",
    "plt.hist(samples_2, bins=20, edgecolor='black', alpha=.8, label='$\\mu = 20$ $(c = 2)$')\n",
    "plt.xlabel(r'$\\bar{Y}^2/S^2$')\n",
    "plt.ylabel('density')\n",
    "plt.legend()\n",
    "plt.savefig('../figures/no_dept.png', dpi=300, bbox_inches='tight');"
   ]
  },
  {
   "cell_type": "code",
   "execution_count": 714,
   "id": "4d539f4f",
   "metadata": {},
   "outputs": [
    {
     "name": "stdout",
     "output_type": "stream",
     "text": [
      "-14.504504504504505\n",
      "-14.94523272729619\n"
     ]
    },
    {
     "data": {
      "image/png": "[encoded data removed]",
      "text/plain": [
       "<Figure size 432x288 with 1 Axes>"
      ]
     },
     "metadata": {},
     "output_type": "display_data"
    }
   ],
   "source": [
    "x = np.linspace(-10, -20, 1000)\n",
    "like = [calculate_L(samples, mu, c) for mu in x]\n",
    "plt.plot(x,like)\n",
    "print(x[np.argmax(like)])\n",
    "print(mle)"
   ]
  },
  {
   "cell_type": "code",
   "execution_count": 438,
   "id": "e944ac13",
   "metadata": {},
   "outputs": [
    {
     "data": {
      "text/plain": [
       "(array([  23.,  145.,  716., 1894., 2980., 2509., 1287.,  382.,   60.,\n",
       "           4.]),\n",
       " array([-12.61312824,  -9.34541008,  -6.07769193,  -2.80997377,\n",
       "          0.45774438,   3.72546254,   6.9931807 ,  10.26089885,\n",
       "         13.52861701,  16.79633516,  20.06405332]),\n",
       " <BarContainer object of 10 artists>)"
      ]
     },
     "execution_count": 438,
     "metadata": {},
     "output_type": "execute_result"
    },
    {
     "data": {
      "image/png": "[encoded data removed]",
      "text/plain": [
       "<Figure size 432x288 with 1 Axes>"
      ]
     },
     "metadata": {},
     "output_type": "display_data"
    }
   ],
   "source": [
    "plt.hist(samples)"
   ]
  },
  {
   "cell_type": "code",
   "execution_count": 335,
   "id": "dc600cd5",
   "metadata": {},
   "outputs": [],
   "source": [
    "num =  np.sum(samples) - np.sqrt(np.sum(samples)**2 - 4 * len(samples) * c * np.sum(samples**2))\n",
    "den = 2 * len(samples) * c\n",
    "mle = num / den"
   ]
  },
  {
   "cell_type": "code",
   "execution_count": 336,
   "id": "8c943793",
   "metadata": {},
   "outputs": [
    {
     "data": {
      "text/plain": [
       "5.108125576259226"
      ]
     },
     "execution_count": 336,
     "metadata": {},
     "output_type": "execute_result"
    }
   ],
   "source": [
    "mle"
   ]
  },
  {
   "cell_type": "code",
   "execution_count": 337,
   "id": "31ec2810",
   "metadata": {},
   "outputs": [
    {
     "data": {
      "image/png": "[encoded data removed]",
      "text/plain": [
       "<Figure size 432x288 with 1 Axes>"
      ]
     },
     "metadata": {},
     "output_type": "display_data"
    }
   ],
   "source": [
    "x = np.linspace(samples.min(), samples.max(), 1000)\n",
    "plt.plot(x, norm(mle, np.sqrt(mle**2 * c)).pdf(x))\n",
    "plt.hist(samples, density=True, bins=50);"
   ]
  },
  {
   "cell_type": "code",
   "execution_count": 338,
   "id": "1b3e2e45",
   "metadata": {},
   "outputs": [
    {
     "data": {
      "text/plain": [
       "24079877.48769666"
      ]
     },
     "execution_count": 338,
     "metadata": {},
     "output_type": "execute_result"
    }
   ],
   "source": [
    "np.sum(samples)**2 - 4 * len(samples) * c * np.sum(samples**2)"
   ]
  },
  {
   "cell_type": "code",
   "execution_count": 339,
   "id": "563fcb23",
   "metadata": {},
   "outputs": [
    {
     "data": {
      "text/plain": [
       "24079877.48769666"
      ]
     },
     "execution_count": 339,
     "metadata": {},
     "output_type": "execute_result"
    }
   ],
   "source": [
    "np.sum(samples)**2 - 4 * len(samples) * c * np.sum(samples**2)"
   ]
  },
  {
   "cell_type": "code",
   "execution_count": 343,
   "id": "7fcfbec7",
   "metadata": {},
   "outputs": [],
   "source": []
  },
  {
   "cell_type": "code",
   "execution_count": 345,
   "id": "a9b053af",
   "metadata": {},
   "outputs": [],
   "source": []
  },
  {
   "cell_type": "code",
   "execution_count": 346,
   "id": "8c6102a0",
   "metadata": {},
   "outputs": [
    {
     "data": {
      "text/plain": [
       "[<matplotlib.lines.Line2D at 0x7f8df63182b0>]"
      ]
     },
     "execution_count": 346,
     "metadata": {},
     "output_type": "execute_result"
    },
    {
     "data": {
      "image/png": "[encoded data removed]",
      "text/plain": [
       "<Figure size 432x288 with 1 Axes>"
      ]
     },
     "metadata": {},
     "output_type": "display_data"
    }
   ],
   "source": []
  },
  {
   "cell_type": "code",
   "execution_count": 347,
   "id": "51dab6fd",
   "metadata": {},
   "outputs": [
    {
     "data": {
      "text/plain": [
       "40.0"
      ]
     },
     "execution_count": 347,
     "metadata": {},
     "output_type": "execute_result"
    }
   ],
   "source": []
  },
  {
   "cell_type": "code",
   "execution_count": 348,
   "id": "b7d88a7e",
   "metadata": {},
   "outputs": [
    {
     "data": {
      "text/plain": [
       "102.16251152518453"
      ]
     },
     "execution_count": 348,
     "metadata": {},
     "output_type": "execute_result"
    }
   ],
   "source": []
  },
  {
   "cell_type": "code",
   "execution_count": null,
   "id": "76931c12",
   "metadata": {},
   "outputs": [],
   "source": []
  }
 ],
 "metadata": {
  "kernelspec": {
   "display_name": "Python 3 (ipykernel)",
   "language": "python",
   "name": "python3"
  },
  "language_info": {
   "codemirror_mode": {
    "name": "ipython",
    "version": 3
   },
   "file_extension": ".py",
   "mimetype": "text/x-python",
   "name": "python",
   "nbconvert_exporter": "python",
   "pygments_lexer": "ipython3",
   "version": "3.9.7"
  }
 },
 "nbformat": 4,
 "nbformat_minor": 5
}
