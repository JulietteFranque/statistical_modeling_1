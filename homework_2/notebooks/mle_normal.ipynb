{
 "cells": [
  {
   "cell_type": "code",
   "execution_count": 161,
   "id": "aea6dae2",
   "metadata": {},
   "outputs": [],
   "source": [
    "import matplotlib.pyplot as plt\n",
    "import numpy as np\n",
    "from matplotlib import rc\n",
    "rc('text', usetex=True)\n",
    "plt.style.use('ggplot')\n",
    "plt.rcParams.update({'axes.labelsize':16})\n",
    "plt.rcParams.update({'axes.titlesize':16})\n",
    "plt.rcParams.update({'legend.fontsize':16})\n",
    "plt.rcParams['xtick.labelsize'] = 16\n",
    "plt.rcParams['ytick.labelsize'] = 16\n",
    "plt.rcParams['lines.linewidth'] = 4\n",
    "from scipy.stats import norm"
   ]
  },
  {
   "cell_type": "code",
   "execution_count": 244,
   "id": "af639787",
   "metadata": {},
   "outputs": [],
   "source": [
    "mu = 50\n",
    "c = 2\n",
    "std = np.sqrt(c * mu**2)"
   ]
  },
  {
   "cell_type": "code",
   "execution_count": 245,
   "id": "c0415c2c",
   "metadata": {},
   "outputs": [],
   "source": [
    "samples = norm(mu, std).rvs(1000)"
   ]
  },
  {
   "cell_type": "code",
   "execution_count": 246,
   "id": "c2656590",
   "metadata": {},
   "outputs": [
    {
     "data": {
      "text/plain": [
       "(array([  7.,  44.,  77., 203., 243., 228., 138.,  50.,   6.,   4.]),\n",
       " array([-177.61920154, -129.4777961 ,  -81.33639066,  -33.19498523,\n",
       "          14.94642021,   63.08782565,  111.22923109,  159.37063653,\n",
       "         207.51204197,  255.6534474 ,  303.79485284]),\n",
       " <BarContainer object of 10 artists>)"
      ]
     },
     "execution_count": 246,
     "metadata": {},
     "output_type": "execute_result"
    },
    {
     "data": {
      "image/png": "[encoded data removed]",
      "text/plain": [
       "<Figure size 432x288 with 1 Axes>"
      ]
     },
     "metadata": {},
     "output_type": "display_data"
    }
   ],
   "source": [
    "plt.hist(samples)"
   ]
  },
  {
   "cell_type": "code",
   "execution_count": 247,
   "id": "1d752426",
   "metadata": {},
   "outputs": [
    {
     "name": "stderr",
     "output_type": "stream",
     "text": [
      "/var/folders/5t/ltqvfkd124z1n5v3ntgw77d40000gn/T/ipykernel_70116/3159869695.py:1: RuntimeWarning: invalid value encountered in sqrt\n",
      "  num =  np.sum(samples) - np.sqrt(np.sum(samples)**2 - 4 * len(samples) * c * np.sum(samples**2) )\n"
     ]
    }
   ],
   "source": [
    "num =  np.sum(samples) - np.sqrt(np.sum(samples)**2 - 4 * len(samples) * c * np.sum(samples**2) )\n",
    "den = 2 * len(samples) * c\n",
    "mle = num / den"
   ]
  },
  {
   "cell_type": "code",
   "execution_count": 248,
   "id": "2624e9f3",
   "metadata": {},
   "outputs": [
    {
     "data": {
      "text/plain": [
       "nan"
      ]
     },
     "execution_count": 248,
     "metadata": {},
     "output_type": "execute_result"
    }
   ],
   "source": [
    "mle"
   ]
  },
  {
   "cell_type": "code",
   "execution_count": 249,
   "id": "6471aaf0",
   "metadata": {},
   "outputs": [
    {
     "data": {
      "image/png": "[encoded data removed]",
      "text/plain": [
       "<Figure size 432x288 with 1 Axes>"
      ]
     },
     "metadata": {},
     "output_type": "display_data"
    }
   ],
   "source": [
    "x = np.linspace(samples.min(), samples.max(), 1000)\n",
    "plt.plot(x, norm(mle, np.sqrt(mle**2 * c)).pdf(x))\n",
    "plt.hist(samples, density=True, bins=50);"
   ]
  },
  {
   "cell_type": "code",
   "execution_count": 250,
   "id": "85a6bc9c",
   "metadata": {},
   "outputs": [
    {
     "data": {
      "text/plain": [
       "-58476555400.923195"
      ]
     },
     "execution_count": 250,
     "metadata": {},
     "output_type": "execute_result"
    }
   ],
   "source": [
    "np.sum(samples)**2 - 4 * len(samples) * c * np.sum(samples**2)"
   ]
  },
  {
   "cell_type": "code",
   "execution_count": 251,
   "id": "8f471aa0",
   "metadata": {},
   "outputs": [
    {
     "data": {
      "text/plain": [
       "-58476555400.923195"
      ]
     },
     "execution_count": 251,
     "metadata": {},
     "output_type": "execute_result"
    }
   ],
   "source": [
    "np.sum(samples)**2 - 4 * len(samples) * c * np.sum(samples**2)"
   ]
  },
  {
   "cell_type": "code",
   "execution_count": null,
   "id": "896d6cb0",
   "metadata": {},
   "outputs": [],
   "source": []
  },
  {
   "cell_type": "code",
   "execution_count": null,
   "id": "ed3d4a66",
   "metadata": {},
   "outputs": [],
   "source": []
  }
 ],
 "metadata": {
  "kernelspec": {
   "display_name": "Python 3 (ipykernel)",
   "language": "python",
   "name": "python3"
  },
  "language_info": {
   "codemirror_mode": {
    "name": "ipython",
    "version": 3
   },
   "file_extension": ".py",
   "mimetype": "text/x-python",
   "name": "python",
   "nbconvert_exporter": "python",
   "pygments_lexer": "ipython3",
   "version": "3.9.7"
  }
 },
 "nbformat": 4,
 "nbformat_minor": 5
}
