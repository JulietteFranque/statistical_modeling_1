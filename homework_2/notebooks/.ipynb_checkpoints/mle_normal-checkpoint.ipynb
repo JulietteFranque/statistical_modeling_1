{
 "cells": [
  {
   "cell_type": "code",
   "execution_count": 18,
   "id": "f05f838e",
   "metadata": {},
   "outputs": [],
   "source": [
    "import matplotlib.pyplot as plt\n",
    "import numpy as np\n",
    "from matplotlib import rc\n",
    "rc('text', usetex=True)\n",
    "plt.style.use('ggplot')\n",
    "plt.rcParams.update({'axes.labelsize':16})\n",
    "plt.rcParams.update({'axes.titlesize':16})\n",
    "plt.rcParams.update({'legend.fontsize':16})\n",
    "plt.rcParams['xtick.labelsize'] = 16\n",
    "plt.rcParams['ytick.labelsize'] = 16\n",
    "plt.rcParams['lines.linewidth'] = 4\n",
    "from scipy.stats import norm"
   ]
  },
  {
   "cell_type": "code",
   "execution_count": 19,
   "id": "f9ac8a23",
   "metadata": {},
   "outputs": [],
   "source": [
    "mu = 50\n",
    "std = np.sqrt(0.05 * mu**2)"
   ]
  },
  {
   "cell_type": "code",
   "execution_count": 20,
   "id": "bcd90533",
   "metadata": {},
   "outputs": [],
   "source": [
    "samples = norm(mu, std).rvs(1000)"
   ]
  },
  {
   "cell_type": "code",
   "execution_count": 21,
   "id": "93b31b4e",
   "metadata": {},
   "outputs": [
    {
     "data": {
      "text/plain": [
       "(array([ 12.,  41., 109., 216., 221., 183., 137.,  61.,  14.,   6.]),\n",
       " array([18.92824349, 25.70691981, 32.48559613, 39.26427246, 46.04294878,\n",
       "        52.8216251 , 59.60030143, 66.37897775, 73.15765408, 79.9363304 ,\n",
       "        86.71500672]),\n",
       " <BarContainer object of 10 artists>)"
      ]
     },
     "execution_count": 21,
     "metadata": {},
     "output_type": "execute_result"
    },
    {
     "data": {
      "image/png": "[encoded data removed]",
      "text/plain": [
       "<Figure size 432x288 with 1 Axes>"
      ]
     },
     "metadata": {},
     "output_type": "display_data"
    }
   ],
   "source": [
    "plt.hist(samples)"
   ]
  },
  {
   "cell_type": "code",
   "execution_count": 32,
   "id": "f9eb878d",
   "metadata": {},
   "outputs": [
    {
     "data": {
      "text/plain": [
       "-56.00163520865266"
      ]
     },
     "execution_count": 32,
     "metadata": {},
     "output_type": "execute_result"
    }
   ],
   "source": [
    "num = - np.sum(samples) + np.sqrt(np.sum(samples)**2 - 4 * len(samples) * 0.05 * np.sum(samples**2) )\n",
    "den = 2 * len(samples) * 0.05\n",
    "num / den"
   ]
  },
  {
   "cell_type": "code",
   "execution_count": 33,
   "id": "8dcb3f0c",
   "metadata": {},
   "outputs": [
    {
     "data": {
      "text/plain": [
       "-56.00163520865266"
      ]
     },
     "execution_count": 33,
     "metadata": {},
     "output_type": "execute_result"
    }
   ],
   "source": [
    "num/den"
   ]
  },
  {
   "cell_type": "code",
   "execution_count": null,
   "id": "8646245a",
   "metadata": {},
   "outputs": [],
   "source": []
  }
 ],
 "metadata": {
  "kernelspec": {
   "display_name": "Python 3 (ipykernel)",
   "language": "python",
   "name": "python3"
  },
  "language_info": {
   "codemirror_mode": {
    "name": "ipython",
    "version": 3
   },
   "file_extension": ".py",
   "mimetype": "text/x-python",
   "name": "python",
   "nbconvert_exporter": "python",
   "pygments_lexer": "ipython3",
   "version": "3.9.7"
  }
 },
 "nbformat": 4,
 "nbformat_minor": 5
}
